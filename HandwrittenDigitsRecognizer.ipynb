{
  "nbformat": 4,
  "nbformat_minor": 0,
  "metadata": {
    "colab": {
      "provenance": []
    },
    "kernelspec": {
      "name": "python3",
      "display_name": "Python 3"
    },
    "language_info": {
      "name": "python"
    }
  },
  "cells": [
    {
      "cell_type": "code",
      "execution_count": 2,
      "metadata": {
        "id": "w7dezvALv8Hp",
        "colab": {
          "base_uri": "https://localhost:8080/"
        },
        "outputId": "3109e091-48b9-4221-80b2-6a9377905202"
      },
      "outputs": [
        {
          "output_type": "execute_result",
          "data": {
            "text/plain": [
              "['DESCR', 'data', 'feature_names', 'frame', 'images', 'target', 'target_names']"
            ]
          },
          "metadata": {},
          "execution_count": 2
        }
      ],
      "source": [
        "from sklearn import datasets\n",
        "digits= datasets.load_digits()\n",
        "dir(digits)"
      ]
    },
    {
      "cell_type": "code",
      "source": [
        "print(digits.images[1000])"
      ],
      "metadata": {
        "colab": {
          "base_uri": "https://localhost:8080/"
        },
        "id": "CzKglJjZ0q9g",
        "outputId": "7208bbce-7ba4-466f-c90a-9bcfa342441b"
      },
      "execution_count": 10,
      "outputs": [
        {
          "output_type": "stream",
          "name": "stdout",
          "text": [
            "[[ 0.  0.  1. 14.  2.  0.  0.  0.]\n",
            " [ 0.  0.  0. 16.  5.  0.  0.  0.]\n",
            " [ 0.  0.  0. 14. 10.  0.  0.  0.]\n",
            " [ 0.  0.  0. 11. 16.  1.  0.  0.]\n",
            " [ 0.  0.  0.  3. 14.  6.  0.  0.]\n",
            " [ 0.  0.  0.  0.  8. 12.  0.  0.]\n",
            " [ 0.  0. 10. 14. 13. 16.  8.  3.]\n",
            " [ 0.  0.  2. 11. 12. 15. 16. 15.]]\n"
          ]
        }
      ]
    },
    {
      "cell_type": "code",
      "source": [
        "import matplotlib.pyplot as plt\n",
        "\n",
        "def plot_multi(i):\n",
        "  nplots=16\n",
        "  fig= plt.figure(figsize= (15,15))\n",
        "  for j in range(nplots):\n",
        "    plt.subplot(4,4,j+1)\n",
        "    plt.imshow(digits.images[i+j], cmap='binary')\n",
        "    plt.title(digits.target[i+j])\n",
        "    plt.axis('off')\n",
        "  plt.show()\n",
        "\n",
        "plot_multi(0)\n"
      ],
      "metadata": {
        "colab": {
          "base_uri": "https://localhost:8080/",
          "height": 671
        },
        "id": "DkX65FEg1xtb",
        "outputId": "0aeb0531-2807-46df-efaf-d9c4a3a3f4ce"
      },
      "execution_count": 12,
      "outputs": [
        {
          "output_type": "display_data",
          "data": {
            "text/plain": [
              "<Figure size 1500x1500 with 16 Axes>"
            ],
            "image/png": "[encoded data removed]"
          },
          "metadata": {}
        }
      ]
    },
    {
      "cell_type": "code",
      "source": [
        "y= digits.target\n",
        "x= digits.images.reshape((len(digits.images),-1))\n",
        "x.shape"
      ],
      "metadata": {
        "colab": {
          "base_uri": "https://localhost:8080/"
        },
        "id": "RX6kCitP2MfK",
        "outputId": "61e8772e-0593-4901-8e4f-36aa53a4406c"
      },
      "execution_count": 13,
      "outputs": [
        {
          "output_type": "execute_result",
          "data": {
            "text/plain": [
              "(1797, 64)"
            ]
          },
          "metadata": {},
          "execution_count": 13
        }
      ]
    },
    {
      "cell_type": "code",
      "source": [
        "x[0]"
      ],
      "metadata": {
        "colab": {
          "base_uri": "https://localhost:8080/"
        },
        "id": "zI6XeEWgMQqV",
        "outputId": "c9e5c75c-f3b7-4977-d844-4d9635d1537a"
      },
      "execution_count": 14,
      "outputs": [
        {
          "output_type": "execute_result",
          "data": {
            "text/plain": [
              "array([ 0.,  0.,  5., 13.,  9.,  1.,  0.,  0.,  0.,  0., 13., 15., 10.,\n",
              "       15.,  5.,  0.,  0.,  3., 15.,  2.,  0., 11.,  8.,  0.,  0.,  4.,\n",
              "       12.,  0.,  0.,  8.,  8.,  0.,  0.,  5.,  8.,  0.,  0.,  9.,  8.,\n",
              "        0.,  0.,  4., 11.,  0.,  1., 12.,  7.,  0.,  0.,  2., 14.,  5.,\n",
              "       10., 12.,  0.,  0.,  0.,  0.,  6., 13., 10.,  0.,  0.,  0.])"
            ]
          },
          "metadata": {},
          "execution_count": 14
        }
      ]
    },
    {
      "cell_type": "code",
      "source": [
        "x_train= x[:1000]\n",
        "y_train= y[:1000]\n",
        "\n",
        "x_test= x[1000:]\n",
        "y_test=y[1000:]"
      ],
      "metadata": {
        "id": "n7BlmcZNMSpD"
      },
      "execution_count": 23,
      "outputs": []
    },
    {
      "cell_type": "code",
      "source": [
        "from sklearn.neural_network import MLPClassifier\n",
        "\n",
        "mlp= MLPClassifier(hidden_layer_sizes=(150,),\n",
        "                   activation='logistic'  ,\n",
        "                   alpha= 1e-4,random_state=1,\n",
        "                   learning_rate_init= .01,\n",
        "                   verbose= True)"
      ],
      "metadata": {
        "id": "HlU4HDEIQckP"
      },
      "execution_count": 80,
      "outputs": []
    },
    {
      "cell_type": "code",
      "source": [
        "mlp.fit(x_train,y_train)"
      ],
      "metadata": {
        "colab": {
          "base_uri": "https://localhost:8080/",
          "height": 1000
        },
        "id": "-2_yFANQRmBS",
        "outputId": "df2af394-0d98-4b02-92df-0963e07bac6f"
      },
      "execution_count": 81,
      "outputs": [
        {
          "output_type": "stream",
          "name": "stdout",
          "text": [
            "Iteration 1, loss = 1.86053058\n",
            "Iteration 2, loss = 0.84195665\n",
            "Iteration 3, loss = 0.44233059\n",
            "Iteration 4, loss = 0.25270531\n",
            "Iteration 5, loss = 0.15853424\n",
            "Iteration 6, loss = 0.10973227\n",
            "Iteration 7, loss = 0.08364498\n",
            "Iteration 8, loss = 0.06129848\n",
            "Iteration 9, loss = 0.04973436\n",
            "Iteration 10, loss = 0.03985388\n",
            "Iteration 11, loss = 0.03110382\n",
            "Iteration 12, loss = 0.02759515\n",
            "Iteration 13, loss = 0.02333111\n",
            "Iteration 14, loss = 0.01986509\n",
            "Iteration 15, loss = 0.01740235\n",
            "Iteration 16, loss = 0.01534045\n",
            "Iteration 17, loss = 0.01372280\n",
            "Iteration 18, loss = 0.01263139\n",
            "Iteration 19, loss = 0.01153191\n",
            "Iteration 20, loss = 0.01067786\n",
            "Iteration 21, loss = 0.00990223\n",
            "Iteration 22, loss = 0.00910878\n",
            "Iteration 23, loss = 0.00851078\n",
            "Iteration 24, loss = 0.00797574\n",
            "Iteration 25, loss = 0.00755875\n",
            "Iteration 26, loss = 0.00710218\n",
            "Iteration 27, loss = 0.00665470\n",
            "Iteration 28, loss = 0.00634382\n",
            "Iteration 29, loss = 0.00594689\n",
            "Iteration 30, loss = 0.00560469\n",
            "Iteration 31, loss = 0.00539323\n",
            "Iteration 32, loss = 0.00511946\n",
            "Iteration 33, loss = 0.00484581\n",
            "Iteration 34, loss = 0.00465767\n",
            "Iteration 35, loss = 0.00446098\n",
            "Iteration 36, loss = 0.00428179\n",
            "Iteration 37, loss = 0.00409149\n",
            "Iteration 38, loss = 0.00394121\n",
            "Iteration 39, loss = 0.00376741\n",
            "Iteration 40, loss = 0.00364149\n",
            "Iteration 41, loss = 0.00348823\n",
            "Iteration 42, loss = 0.00338060\n",
            "Iteration 43, loss = 0.00324486\n",
            "Iteration 44, loss = 0.00314610\n",
            "Iteration 45, loss = 0.00304297\n",
            "Iteration 46, loss = 0.00292439\n",
            "Iteration 47, loss = 0.00283977\n",
            "Iteration 48, loss = 0.00273537\n",
            "Iteration 49, loss = 0.00265226\n",
            "Iteration 50, loss = 0.00256531\n",
            "Iteration 51, loss = 0.00249361\n",
            "Iteration 52, loss = 0.00241244\n",
            "Iteration 53, loss = 0.00235403\n",
            "Iteration 54, loss = 0.00228733\n",
            "Iteration 55, loss = 0.00223475\n",
            "Iteration 56, loss = 0.00217034\n",
            "Iteration 57, loss = 0.00210499\n",
            "Iteration 58, loss = 0.00204325\n",
            "Iteration 59, loss = 0.00199181\n",
            "Training loss did not improve more than tol=0.000100 for 10 consecutive epochs. Stopping.\n"
          ]
        },
        {
          "output_type": "execute_result",
          "data": {
            "text/plain": [
              "MLPClassifier(activation='logistic', hidden_layer_sizes=(150,),\n",
              "              learning_rate_init=0.01, random_state=1, verbose=True)"
            ],
            "text/html": [
              "<style>#sk-container-id-13 {color: black;}#sk-container-id-13 pre{padding: 0;}#sk-container-id-13 div.sk-toggleable {background-color: white;}#sk-container-id-13 label.sk-toggleable__label {cursor: pointer;display: block;width: 100%;margin-bottom: 0;padding: 0.3em;box-sizing: border-box;text-align: center;}#sk-container-id-13 label.sk-toggleable__label-arrow:before {content: \"▸\";float: left;margin-right: 0.25em;color: #696969;}#sk-container-id-13 label.sk-toggleable__label-arrow:hover:before {color: black;}#sk-container-id-13 div.sk-estimator:hover label.sk-toggleable__label-arrow:before {color: black;}#sk-container-id-13 div.sk-toggleable__content {max-height: 0;max-width: 0;overflow: hidden;text-align: left;background-color: #f0f8ff;}#sk-container-id-13 div.sk-toggleable__content pre {margin: 0.2em;color: black;border-radius: 0.25em;background-color: #f0f8ff;}#sk-container-id-13 input.sk-toggleable__control:checked~div.sk-toggleable__content {max-height: 200px;max-width: 100%;overflow: auto;}#sk-container-id-13 input.sk-toggleable__control:checked~label.sk-toggleable__label-arrow:before {content: \"▾\";}#sk-container-id-13 div.sk-estimator input.sk-toggleable__control:checked~label.sk-toggleable__label {background-color: #d4ebff;}#sk-container-id-13 div.sk-label input.sk-toggleable__control:checked~label.sk-toggleable__label {background-color: #d4ebff;}#sk-container-id-13 input.sk-hidden--visually {border: 0;clip: rect(1px 1px 1px 1px);clip: rect(1px, 1px, 1px, 1px);height: 1px;margin: -1px;overflow: hidden;padding: 0;position: absolute;width: 1px;}#sk-container-id-13 div.sk-estimator {font-family: monospace;background-color: #f0f8ff;border: 1px dotted black;border-radius: 0.25em;box-sizing: border-box;margin-bottom: 0.5em;}#sk-container-id-13 div.sk-estimator:hover {background-color: #d4ebff;}#sk-container-id-13 div.sk-parallel-item::after {content: \"\";width: 100%;border-bottom: 1px solid gray;flex-grow: 1;}#sk-container-id-13 div.sk-label:hover label.sk-toggleable__label {background-color: #d4ebff;}#sk-container-id-13 div.sk-serial::before {content: \"\";position: absolute;border-left: 1px solid gray;box-sizing: border-box;top: 0;bottom: 0;left: 50%;z-index: 0;}#sk-container-id-13 div.sk-serial {display: flex;flex-direction: column;align-items: center;background-color: white;padding-right: 0.2em;padding-left: 0.2em;position: relative;}#sk-container-id-13 div.sk-item {position: relative;z-index: 1;}#sk-container-id-13 div.sk-parallel {display: flex;align-items: stretch;justify-content: center;background-color: white;position: relative;}#sk-container-id-13 div.sk-item::before, #sk-container-id-13 div.sk-parallel-item::before {content: \"\";position: absolute;border-left: 1px solid gray;box-sizing: border-box;top: 0;bottom: 0;left: 50%;z-index: -1;}#sk-container-id-13 div.sk-parallel-item {display: flex;flex-direction: column;z-index: 1;position: relative;background-color: white;}#sk-container-id-13 div.sk-parallel-item:first-child::after {align-self: flex-end;width: 50%;}#sk-container-id-13 div.sk-parallel-item:last-child::after {align-self: flex-start;width: 50%;}#sk-container-id-13 div.sk-parallel-item:only-child::after {width: 0;}#sk-container-id-13 div.sk-dashed-wrapped {border: 1px dashed gray;margin: 0 0.4em 0.5em 0.4em;box-sizing: border-box;padding-bottom: 0.4em;background-color: white;}#sk-container-id-13 div.sk-label label {font-family: monospace;font-weight: bold;display: inline-block;line-height: 1.2em;}#sk-container-id-13 div.sk-label-container {text-align: center;}#sk-container-id-13 div.sk-container {/* jupyter's `normalize.less` sets `[hidden] { display: none; }` but bootstrap.min.css set `[hidden] { display: none !important; }` so we also need the `!important` here to be able to override the default hidden behavior on the sphinx rendered scikit-learn.org. See: https://github.com/scikit-learn/scikit-learn/issues/21755 */display: inline-block !important;position: relative;}#sk-container-id-13 div.sk-text-repr-fallback {display: none;}</style><div id=\"sk-container-id-13\" class=\"sk-top-container\"><div class=\"sk-text-repr-fallback\"><pre>MLPClassifier(activation=&#x27;logistic&#x27;, hidden_layer_sizes=(150,),\n",
              "              learning_rate_init=0.01, random_state=1, verbose=True)</pre><b>In a Jupyter environment, please rerun this cell to show the HTML representation or trust the notebook. <br />On GitHub, the HTML representation is unable to render, please try loading this page with nbviewer.org.</b></div><div class=\"sk-container\" hidden><div class=\"sk-item\"><div class=\"sk-estimator sk-toggleable\"><input class=\"sk-toggleable__control sk-hidden--visually\" id=\"sk-estimator-id-13\" type=\"checkbox\" checked><label for=\"sk-estimator-id-13\" class=\"sk-toggleable__label sk-toggleable__label-arrow\">MLPClassifier</label><div class=\"sk-toggleable__content\"><pre>MLPClassifier(activation=&#x27;logistic&#x27;, hidden_layer_sizes=(150,),\n",
              "              learning_rate_init=0.01, random_state=1, verbose=True)</pre></div></div></div></div></div>"
            ]
          },
          "metadata": {},
          "execution_count": 81
        }
      ]
    },
    {
      "cell_type": "code",
      "source": [
        "fig, axes= plt.subplots(1,1)\n",
        "axes.plot(mlp.loss_curve_, 'o-')\n",
        "axes.set_xlabel(\"number of iterations\")\n",
        "axes.set_ylabel(\"loss\")\n",
        "plt.show()"
      ],
      "metadata": {
        "colab": {
          "base_uri": "https://localhost:8080/",
          "height": 449
        },
        "id": "31Mq4taaTx9w",
        "outputId": "868e956a-a3a6-4fd6-b40c-3e22def3f40a"
      },
      "execution_count": 82,
      "outputs": [
        {
          "output_type": "display_data",
          "data": {
            "text/plain": [
              "<Figure size 640x480 with 1 Axes>"
            ],
            "image/png": "[encoded data removed]"
          },
          "metadata": {}
        }
      ]
    },
    {
      "cell_type": "code",
      "source": [
        "predictions= mlp.predict(x_test)\n",
        "predictions[:50]"
      ],
      "metadata": {
        "colab": {
          "base_uri": "https://localhost:8080/"
        },
        "id": "bB0KLFbAUU_p",
        "outputId": "4cb3413a-0208-4394-e618-b4db8d7d656d"
      },
      "execution_count": 83,
      "outputs": [
        {
          "output_type": "execute_result",
          "data": {
            "text/plain": [
              "array([1, 4, 0, 5, 3, 6, 9, 6, 1, 7, 5, 4, 4, 7, 2, 8, 2, 2, 5, 7, 9, 5,\n",
              "       4, 4, 9, 0, 8, 9, 8, 0, 1, 2, 3, 4, 5, 6, 7, 8, 9, 0, 1, 2, 3, 4,\n",
              "       5, 6, 7, 8, 9, 0])"
            ]
          },
          "metadata": {},
          "execution_count": 83
        }
      ]
    },
    {
      "cell_type": "code",
      "source": [
        "y_test[:50]"
      ],
      "metadata": {
        "colab": {
          "base_uri": "https://localhost:8080/"
        },
        "id": "4nAJtG50Vs2r",
        "outputId": "3d5d3a35-9fcb-4095-fced-321f5f63578d"
      },
      "execution_count": 84,
      "outputs": [
        {
          "output_type": "execute_result",
          "data": {
            "text/plain": [
              "array([1, 4, 0, 5, 3, 6, 9, 6, 1, 7, 5, 4, 4, 7, 2, 8, 2, 2, 5, 7, 9, 5,\n",
              "       4, 4, 9, 0, 8, 9, 8, 0, 1, 2, 3, 4, 5, 6, 7, 8, 9, 0, 1, 2, 3, 4,\n",
              "       5, 6, 7, 8, 9, 0])"
            ]
          },
          "metadata": {},
          "execution_count": 84
        }
      ]
    },
    {
      "cell_type": "code",
      "source": [
        "from sklearn.metrics import accuracy_score\n",
        "\n",
        "accuracy_score(y_test,predictions)"
      ],
      "metadata": {
        "colab": {
          "base_uri": "https://localhost:8080/"
        },
        "id": "P2xiR0mSVwu5",
        "outputId": "16ceee22-c16a-4753-a579-cf2ac466639c"
      },
      "execution_count": 85,
      "outputs": [
        {
          "output_type": "execute_result",
          "data": {
            "text/plain": [
              "0.944792973651192"
            ]
          },
          "metadata": {},
          "execution_count": 85
        }
      ]
    },
    {
      "cell_type": "code",
      "source": [],
      "metadata": {
        "id": "1coq9AoXXAPh"
      },
      "execution_count": null,
      "outputs": []
    }
  ]
}